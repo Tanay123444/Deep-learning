{
 "cells": [
  {
   "cell_type": "markdown",
   "metadata": {},
   "source": [
    "## Requesting data from RAPID API for Amazon India"
   ]
  },
  {
   "cell_type": "code",
   "execution_count": 18,
   "metadata": {},
   "outputs": [
    {
     "name": "stdout",
     "output_type": "stream",
     "text": [
      "[{'asin': 'B074R8RQQ2', 'product_name': 'Maxracy 2 Set Peeler Silicone Easy Roll Tube Useful Garlic Odorfree Kitchen Tool (Red,Blue)', 'current_price': 6.59, 'is_prime': True, 'image_url': 'https://m.media-amazon.com/images/I/41EtHJCNHiL.jpg', 'locale': 'US', 'currency_symbol': '$'}, {'asin': 'B0BLW25MB7', 'product_name': 'Lenovo IdeaPad 1 14 Laptop, 14.0\\\\\" HD Display, Intel Celeron N4020, 4GB RAM, 64GB Storage, Intel UHD Graphics 600, Win 11 in S Mode, Cloud Grey', 'current_price': 151.0, 'is_prime': True, 'image_url': 'https://m.media-amazon.com/images/I/41ilN47kiFL.jpg', 'locale': 'US', 'currency_symbol': '$'}, {'asin': 'B005YQZ1KE', 'product_name': 'T-fal Initiatives Nonstick Cookware Set 18 Piece Oven Safe 350F Pots and Pans, Dishwasher Safe Black', 'current_price': 95.99, 'is_prime': True, 'image_url': 'https://m.media-amazon.com/images/I/41pLhSHcuAL.jpg', 'locale': 'US', 'currency_symbol': '$'}, {'asin': 'B0CD94BLW8', 'product_name': 'SAMSUNG Galaxy S23 FE Cell Phone, 256GB, Unlocked Android Smartphone, Long Battery Life, Premium Processor, Tough Gorilla Glass Display, Hi-Res 50MP Camera, US Version, 2023, Purple', 'current_price': 559.99, 'is_prime': True, 'image_url': 'https://m.media-amazon.com/images/I/41FATCWP-yL.jpg', 'locale': 'US', 'currency_symbol': '$'}]\n"
     ]
    }
   ],
   "source": [
    "import requests\n",
    "\n",
    "url = \"https://amazon-product-price-data.p.rapidapi.com/product\"\n",
    "\n",
    "querystring = {\"asins\":\"B005YQZ1KE,B074R8RQQ2,B0BLW25MB7,B0CD94BLW8\",\"locale\":\"US\"}\n",
    "\n",
    "headers = {\n",
    "\t\"X-RapidAPI-Key\": \"c86d19dba2msh0b9382a7f87c6a3p1f2116jsn57da44b7b1b0\",\n",
    "\t\"X-RapidAPI-Host\": \"amazon-product-price-data.p.rapidapi.com\"\n",
    "}\n",
    "\n",
    "response = requests.get(url, headers=headers, params=querystring)\n",
    "\n",
    "print(response.json())"
   ]
  },
  {
   "cell_type": "code",
   "execution_count": 19,
   "metadata": {},
   "outputs": [
    {
     "data": {
      "text/plain": [
       "[{'asin': 'B074R8RQQ2',\n",
       "  'product_name': 'Maxracy 2 Set Peeler Silicone Easy Roll Tube Useful Garlic Odorfree Kitchen Tool (Red,Blue)',\n",
       "  'current_price': 6.59,\n",
       "  'is_prime': True,\n",
       "  'image_url': 'https://m.media-amazon.com/images/I/41EtHJCNHiL.jpg',\n",
       "  'locale': 'US',\n",
       "  'currency_symbol': '$'},\n",
       " {'asin': 'B0BLW25MB7',\n",
       "  'product_name': 'Lenovo IdeaPad 1 14 Laptop, 14.0\\\\\" HD Display, Intel Celeron N4020, 4GB RAM, 64GB Storage, Intel UHD Graphics 600, Win 11 in S Mode, Cloud Grey',\n",
       "  'current_price': 151.0,\n",
       "  'is_prime': True,\n",
       "  'image_url': 'https://m.media-amazon.com/images/I/41ilN47kiFL.jpg',\n",
       "  'locale': 'US',\n",
       "  'currency_symbol': '$'},\n",
       " {'asin': 'B005YQZ1KE',\n",
       "  'product_name': 'T-fal Initiatives Nonstick Cookware Set 18 Piece Oven Safe 350F Pots and Pans, Dishwasher Safe Black',\n",
       "  'current_price': 95.99,\n",
       "  'is_prime': True,\n",
       "  'image_url': 'https://m.media-amazon.com/images/I/41pLhSHcuAL.jpg',\n",
       "  'locale': 'US',\n",
       "  'currency_symbol': '$'},\n",
       " {'asin': 'B0CD94BLW8',\n",
       "  'product_name': 'SAMSUNG Galaxy S23 FE Cell Phone, 256GB, Unlocked Android Smartphone, Long Battery Life, Premium Processor, Tough Gorilla Glass Display, Hi-Res 50MP Camera, US Version, 2023, Purple',\n",
       "  'current_price': 559.99,\n",
       "  'is_prime': True,\n",
       "  'image_url': 'https://m.media-amazon.com/images/I/41FATCWP-yL.jpg',\n",
       "  'locale': 'US',\n",
       "  'currency_symbol': '$'}]"
      ]
     },
     "execution_count": 19,
     "metadata": {},
     "output_type": "execute_result"
    }
   ],
   "source": [
    "data = response.json()\n",
    "data"
   ]
  },
  {
   "cell_type": "code",
   "execution_count": 20,
   "metadata": {},
   "outputs": [
    {
     "data": {
      "text/plain": [
       "4"
      ]
     },
     "execution_count": 20,
     "metadata": {},
     "output_type": "execute_result"
    }
   ],
   "source": [
    "len(data)"
   ]
  },
  {
   "cell_type": "code",
   "execution_count": 21,
   "metadata": {},
   "outputs": [
    {
     "name": "stdout",
     "output_type": "stream",
     "text": [
      "{'asin': 'B074R8RQQ2', 'product_name': 'Maxracy 2 Set Peeler Silicone Easy Roll Tube Useful Garlic Odorfree Kitchen Tool (Red,Blue)', 'current_price': 6.59, 'is_prime': True, 'image_url': 'https://m.media-amazon.com/images/I/41EtHJCNHiL.jpg', 'locale': 'US', 'currency_symbol': '$'}\n",
      "{'asin': 'B0BLW25MB7', 'product_name': 'Lenovo IdeaPad 1 14 Laptop, 14.0\\\\\" HD Display, Intel Celeron N4020, 4GB RAM, 64GB Storage, Intel UHD Graphics 600, Win 11 in S Mode, Cloud Grey', 'current_price': 151.0, 'is_prime': True, 'image_url': 'https://m.media-amazon.com/images/I/41ilN47kiFL.jpg', 'locale': 'US', 'currency_symbol': '$'}\n",
      "{'asin': 'B005YQZ1KE', 'product_name': 'T-fal Initiatives Nonstick Cookware Set 18 Piece Oven Safe 350F Pots and Pans, Dishwasher Safe Black', 'current_price': 95.99, 'is_prime': True, 'image_url': 'https://m.media-amazon.com/images/I/41pLhSHcuAL.jpg', 'locale': 'US', 'currency_symbol': '$'}\n",
      "{'asin': 'B0CD94BLW8', 'product_name': 'SAMSUNG Galaxy S23 FE Cell Phone, 256GB, Unlocked Android Smartphone, Long Battery Life, Premium Processor, Tough Gorilla Glass Display, Hi-Res 50MP Camera, US Version, 2023, Purple', 'current_price': 559.99, 'is_prime': True, 'image_url': 'https://m.media-amazon.com/images/I/41FATCWP-yL.jpg', 'locale': 'US', 'currency_symbol': '$'}\n"
     ]
    }
   ],
   "source": [
    "for i in data:\n",
    "    print(i)"
   ]
  },
  {
   "cell_type": "code",
   "execution_count": 22,
   "metadata": {},
   "outputs": [
    {
     "data": {
      "text/plain": [
       "'B074R8RQQ2'"
      ]
     },
     "execution_count": 22,
     "metadata": {},
     "output_type": "execute_result"
    }
   ],
   "source": [
    "data[0]['asin']"
   ]
  },
  {
   "cell_type": "code",
   "execution_count": 23,
   "metadata": {},
   "outputs": [
    {
     "data": {
      "text/plain": [
       "'Maxracy 2 Set Peeler Silicone Easy Roll Tube Useful Garlic Odorfree Kitchen Tool (Red,Blue)'"
      ]
     },
     "execution_count": 23,
     "metadata": {},
     "output_type": "execute_result"
    }
   ],
   "source": [
    "data[0]['product_name']"
   ]
  },
  {
   "cell_type": "code",
   "execution_count": 24,
   "metadata": {},
   "outputs": [
    {
     "data": {
      "text/plain": [
       "6.59"
      ]
     },
     "execution_count": 24,
     "metadata": {},
     "output_type": "execute_result"
    }
   ],
   "source": [
    "data[0]['current_price']"
   ]
  },
  {
   "cell_type": "code",
   "execution_count": 25,
   "metadata": {},
   "outputs": [],
   "source": [
    "asin = []\n",
    "product_name = []\n",
    "price = []\n",
    "for i in data:\n",
    "    asin.append(i['asin'])\n",
    "    product_name.append(i['product_name'])\n",
    "    price.append(i['current_price'])"
   ]
  },
  {
   "cell_type": "code",
   "execution_count": 26,
   "metadata": {},
   "outputs": [
    {
     "data": {
      "text/plain": [
       "['B074R8RQQ2', 'B0BLW25MB7', 'B005YQZ1KE', 'B0CD94BLW8']"
      ]
     },
     "execution_count": 26,
     "metadata": {},
     "output_type": "execute_result"
    }
   ],
   "source": [
    "asin"
   ]
  },
  {
   "cell_type": "code",
   "execution_count": 27,
   "metadata": {},
   "outputs": [
    {
     "data": {
      "text/plain": [
       "['Maxracy 2 Set Peeler Silicone Easy Roll Tube Useful Garlic Odorfree Kitchen Tool (Red,Blue)',\n",
       " 'Lenovo IdeaPad 1 14 Laptop, 14.0\\\\\" HD Display, Intel Celeron N4020, 4GB RAM, 64GB Storage, Intel UHD Graphics 600, Win 11 in S Mode, Cloud Grey',\n",
       " 'T-fal Initiatives Nonstick Cookware Set 18 Piece Oven Safe 350F Pots and Pans, Dishwasher Safe Black',\n",
       " 'SAMSUNG Galaxy S23 FE Cell Phone, 256GB, Unlocked Android Smartphone, Long Battery Life, Premium Processor, Tough Gorilla Glass Display, Hi-Res 50MP Camera, US Version, 2023, Purple']"
      ]
     },
     "execution_count": 27,
     "metadata": {},
     "output_type": "execute_result"
    }
   ],
   "source": [
    "product_name"
   ]
  },
  {
   "cell_type": "code",
   "execution_count": 28,
   "metadata": {},
   "outputs": [
    {
     "data": {
      "text/plain": [
       "[6.59, 151.0, 95.99, 559.99]"
      ]
     },
     "execution_count": 28,
     "metadata": {},
     "output_type": "execute_result"
    }
   ],
   "source": [
    "price"
   ]
  },
  {
   "cell_type": "markdown",
   "metadata": {},
   "source": [
    "## Convert above in dataframe "
   ]
  },
  {
   "cell_type": "code",
   "execution_count": 29,
   "metadata": {},
   "outputs": [],
   "source": [
    "dct = {'asin':asin,\n",
    "       'product_name':product_name,\n",
    "       'price':price}"
   ]
  },
  {
   "cell_type": "code",
   "execution_count": 30,
   "metadata": {},
   "outputs": [
    {
     "data": {
      "text/html": [
       "<div>\n",
       "<style scoped>\n",
       "    .dataframe tbody tr th:only-of-type {\n",
       "        vertical-align: middle;\n",
       "    }\n",
       "\n",
       "    .dataframe tbody tr th {\n",
       "        vertical-align: top;\n",
       "    }\n",
       "\n",
       "    .dataframe thead th {\n",
       "        text-align: right;\n",
       "    }\n",
       "</style>\n",
       "<table border=\"1\" class=\"dataframe\">\n",
       "  <thead>\n",
       "    <tr style=\"text-align: right;\">\n",
       "      <th></th>\n",
       "      <th>asin</th>\n",
       "      <th>product_name</th>\n",
       "      <th>price</th>\n",
       "    </tr>\n",
       "  </thead>\n",
       "  <tbody>\n",
       "    <tr>\n",
       "      <th>0</th>\n",
       "      <td>B074R8RQQ2</td>\n",
       "      <td>Maxracy 2 Set Peeler Silicone Easy Roll Tube U...</td>\n",
       "      <td>6.59</td>\n",
       "    </tr>\n",
       "    <tr>\n",
       "      <th>1</th>\n",
       "      <td>B0BLW25MB7</td>\n",
       "      <td>Lenovo IdeaPad 1 14 Laptop, 14.0\\\" HD Display,...</td>\n",
       "      <td>151.00</td>\n",
       "    </tr>\n",
       "    <tr>\n",
       "      <th>2</th>\n",
       "      <td>B005YQZ1KE</td>\n",
       "      <td>T-fal Initiatives Nonstick Cookware Set 18 Pie...</td>\n",
       "      <td>95.99</td>\n",
       "    </tr>\n",
       "    <tr>\n",
       "      <th>3</th>\n",
       "      <td>B0CD94BLW8</td>\n",
       "      <td>SAMSUNG Galaxy S23 FE Cell Phone, 256GB, Unloc...</td>\n",
       "      <td>559.99</td>\n",
       "    </tr>\n",
       "  </tbody>\n",
       "</table>\n",
       "</div>"
      ],
      "text/plain": [
       "         asin                                       product_name   price\n",
       "0  B074R8RQQ2  Maxracy 2 Set Peeler Silicone Easy Roll Tube U...    6.59\n",
       "1  B0BLW25MB7  Lenovo IdeaPad 1 14 Laptop, 14.0\\\" HD Display,...  151.00\n",
       "2  B005YQZ1KE  T-fal Initiatives Nonstick Cookware Set 18 Pie...   95.99\n",
       "3  B0CD94BLW8  SAMSUNG Galaxy S23 FE Cell Phone, 256GB, Unloc...  559.99"
      ]
     },
     "execution_count": 30,
     "metadata": {},
     "output_type": "execute_result"
    }
   ],
   "source": [
    "import pandas as pd\n",
    "df = pd.DataFrame(dct)\n",
    "df"
   ]
  },
  {
   "cell_type": "markdown",
   "metadata": {},
   "source": [
    "## Stock market API : AAPL "
   ]
  },
  {
   "cell_type": "code",
   "execution_count": 31,
   "metadata": {},
   "outputs": [
    {
     "name": "stdout",
     "output_type": "stream",
     "text": [
      "[{'Date': '2023-12-01', 'Open': 190.33, 'High': 191.56, 'Low': 189.23, 'Close': 191.24, 'Volume': 45704800}, {'Date': '2023-11-30', 'Open': 189.84, 'High': 190.32, 'Low': 188.19, 'Close': 189.95, 'Volume': 48794300}, {'Date': '2023-11-29', 'Open': 190.9, 'High': 192.09, 'Low': 188.97, 'Close': 189.37, 'Volume': 43014200}, {'Date': '2023-11-28', 'Open': 189.78, 'High': 191.08, 'Low': 189.4, 'Close': 190.4, 'Volume': 38414700}, {'Date': '2023-11-27', 'Open': 189.92, 'High': 190.67, 'Low': 188.9, 'Close': 189.79, 'Volume': 40552600}, {'Date': '2023-11-24', 'Open': 190.87, 'High': 190.9, 'Low': 189.25, 'Close': 189.97, 'Volume': 24048300}, {'Date': '2023-11-22', 'Open': 191.49, 'High': 192.93, 'Low': 190.83, 'Close': 191.31, 'Volume': 39630000}, {'Date': '2023-11-21', 'Open': 191.41, 'High': 191.52, 'Low': 189.74, 'Close': 190.64, 'Volume': 38134400}, {'Date': '2023-11-20', 'Open': 189.89, 'High': 191.91, 'Low': 189.88, 'Close': 191.45, 'Volume': 46538600}, {'Date': '2023-11-17', 'Open': 190.25, 'High': 190.38, 'Low': 188.57, 'Close': 189.69, 'Volume': 50941400}, {'Date': '2023-11-16', 'Open': 189.57, 'High': 190.96, 'Low': 188.65, 'Close': 189.71, 'Volume': 54412900}, {'Date': '2023-11-15', 'Open': 187.85, 'High': 189.5, 'Low': 187.78, 'Close': 188.01, 'Volume': 53790500}, {'Date': '2023-11-14', 'Open': 187.7, 'High': 188.11, 'Low': 186.3, 'Close': 187.44, 'Volume': 60108300}, {'Date': '2023-11-13', 'Open': 185.82, 'High': 186.03, 'Low': 184.21, 'Close': 184.8, 'Volume': 43627500}, {'Date': '2023-11-10', 'Open': 183.97, 'High': 186.57, 'Low': 183.53, 'Close': 186.4, 'Volume': 66177900}, {'Date': '2023-11-09', 'Open': 182.96, 'High': 184.12, 'Low': 181.81, 'Close': 182.41, 'Volume': 53763500}, {'Date': '2023-11-08', 'Open': 182.35, 'High': 183.45, 'Low': 181.59, 'Close': 182.89, 'Volume': 49340200}, {'Date': '2023-11-07', 'Open': 179.18, 'High': 182.44, 'Low': 178.97, 'Close': 181.82, 'Volume': 70529900}, {'Date': '2023-11-06', 'Open': 176.38, 'High': 179.43, 'Low': 176.21, 'Close': 179.23, 'Volume': 63841300}, {'Date': '2023-11-03', 'Open': 174.24, 'High': 176.82, 'Low': 173.35, 'Close': 176.65, 'Volume': 79829200}, {'Date': '2023-11-02', 'Open': 175.52, 'High': 177.78, 'Low': 175.46, 'Close': 177.57, 'Volume': 77334700}, {'Date': '2023-11-01', 'Open': 171.0, 'High': 174.23, 'Low': 170.12, 'Close': 173.97, 'Volume': 56934900}, {'Date': '2023-10-31', 'Open': 169.35, 'High': 170.9, 'Low': 167.9, 'Close': 170.77, 'Volume': 44846000}, {'Date': '2023-10-30', 'Open': 169.02, 'High': 171.17, 'Low': 168.87, 'Close': 170.29, 'Volume': 51130900}, {'Date': '2023-10-27', 'Open': 166.91, 'High': 168.96, 'Low': 166.83, 'Close': 168.22, 'Volume': 58499100}, {'Date': '2023-10-26', 'Open': 170.37, 'High': 171.38, 'Low': 165.67, 'Close': 166.89, 'Volume': 70625200}, {'Date': '2023-10-25', 'Open': 171.88, 'High': 173.06, 'Low': 170.65, 'Close': 171.1, 'Volume': 57156900}, {'Date': '2023-10-24', 'Open': 173.05, 'High': 173.67, 'Low': 171.45, 'Close': 173.44, 'Volume': 43816600}, {'Date': '2023-10-23', 'Open': 170.91, 'High': 174.01, 'Low': 169.93, 'Close': 173.0, 'Volume': 55980100}, {'Date': '2023-10-20', 'Open': 175.31, 'High': 175.42, 'Low': 172.64, 'Close': 172.88, 'Volume': 64244000}, {'Date': '2023-10-19', 'Open': 176.04, 'High': 177.84, 'Low': 175.19, 'Close': 175.46, 'Volume': 59302800}, {'Date': '2023-10-18', 'Open': 175.58, 'High': 177.58, 'Low': 175.11, 'Close': 175.84, 'Volume': 54764300}, {'Date': '2023-10-17', 'Open': 176.65, 'High': 178.42, 'Low': 174.8, 'Close': 177.15, 'Volume': 57549300}, {'Date': '2023-10-16', 'Open': 176.75, 'High': 179.08, 'Low': 176.51, 'Close': 178.72, 'Volume': 52516900}, {'Date': '2023-10-13', 'Open': 181.42, 'High': 181.93, 'Low': 178.14, 'Close': 178.85, 'Volume': 51456000}, {'Date': '2023-10-12', 'Open': 180.07, 'High': 182.34, 'Low': 179.04, 'Close': 180.71, 'Volume': 56743100}, {'Date': '2023-10-11', 'Open': 178.2, 'High': 179.85, 'Low': 177.6, 'Close': 179.8, 'Volume': 47551100}, {'Date': '2023-10-10', 'Open': 178.1, 'High': 179.72, 'Low': 177.95, 'Close': 178.39, 'Volume': 43698000}, {'Date': '2023-10-09', 'Open': 176.81, 'High': 179.05, 'Low': 175.8, 'Close': 178.99, 'Volume': 42390700}, {'Date': '2023-10-06', 'Open': 173.8, 'High': 177.99, 'Low': 173.18, 'Close': 177.49, 'Volume': 57266600}, {'Date': '2023-10-05', 'Open': 173.79, 'High': 175.45, 'Low': 172.68, 'Close': 174.91, 'Volume': 48527900}, {'Date': '2023-10-04', 'Open': 171.09, 'High': 174.21, 'Low': 170.97, 'Close': 173.66, 'Volume': 53020200}, {'Date': '2023-10-03', 'Open': 172.26, 'High': 173.63, 'Low': 170.82, 'Close': 172.4, 'Volume': 49594600}, {'Date': '2023-10-02', 'Open': 171.22, 'High': 174.3, 'Low': 170.93, 'Close': 173.75, 'Volume': 52164500}, {'Date': '2023-09-29', 'Open': 172.02, 'High': 173.07, 'Low': 170.34, 'Close': 171.21, 'Volume': 51861000}, {'Date': '2023-09-28', 'Open': 169.34, 'High': 172.03, 'Low': 167.62, 'Close': 170.69, 'Volume': 56294400}, {'Date': '2023-09-27', 'Open': 172.62, 'High': 173.04, 'Low': 169.05, 'Close': 170.43, 'Volume': 66921800}, {'Date': '2023-09-26', 'Open': 174.82, 'High': 175.2, 'Low': 171.66, 'Close': 171.96, 'Volume': 64588900}, {'Date': '2023-09-25', 'Open': 174.2, 'High': 176.97, 'Low': 174.15, 'Close': 176.08, 'Volume': 46172700}, {'Date': '2023-09-22', 'Open': 174.67, 'High': 177.08, 'Low': 174.05, 'Close': 174.79, 'Volume': 56725300}, {'message': 'Upgrade your subscription to MEGA plan to get all remaining data and unlimited access.'}]\n"
     ]
    }
   ],
   "source": [
    "import requests\n",
    "\n",
    "url = \"https://quotient.p.rapidapi.com/equity/daily\"\n",
    "\n",
    "querystring = {\"symbol\":\"AAPL\",\"from\":\"2020-01-01\",\"to\":\"2023-12-01\",\"adjust\":\"false\"}\n",
    "\n",
    "headers = {\n",
    "\t\"X-RapidAPI-Key\": \"c86d19dba2msh0b9382a7f87c6a3p1f2116jsn57da44b7b1b0\",\n",
    "\t\"X-RapidAPI-Host\": \"quotient.p.rapidapi.com\"\n",
    "}\n",
    "\n",
    "response = requests.get(url, headers=headers, params=querystring)\n",
    "\n",
    "print(response.json())"
   ]
  },
  {
   "cell_type": "code",
   "execution_count": 32,
   "metadata": {},
   "outputs": [
    {
     "data": {
      "text/plain": [
       "51"
      ]
     },
     "execution_count": 32,
     "metadata": {},
     "output_type": "execute_result"
    }
   ],
   "source": [
    "data2 = response.json()\n",
    "len(data2)"
   ]
  },
  {
   "cell_type": "markdown",
   "metadata": {},
   "source": [
    "## Yfinance API"
   ]
  },
  {
   "cell_type": "code",
   "execution_count": 33,
   "metadata": {},
   "outputs": [
    {
     "name": "stdout",
     "output_type": "stream",
     "text": [
      "Requirement already satisfied: yfinance in d:\\deep learning\\repository\\venv\\lib\\site-packages (0.2.33)\n",
      "Requirement already satisfied: pandas>=1.3.0 in d:\\deep learning\\repository\\venv\\lib\\site-packages (from yfinance) (2.1.3)\n",
      "Requirement already satisfied: numpy>=1.16.5 in d:\\deep learning\\repository\\venv\\lib\\site-packages (from yfinance) (1.26.2)\n",
      "Requirement already satisfied: requests>=2.31 in d:\\deep learning\\repository\\venv\\lib\\site-packages (from yfinance) (2.31.0)\n",
      "Requirement already satisfied: multitasking>=0.0.7 in d:\\deep learning\\repository\\venv\\lib\\site-packages (from yfinance) (0.0.11)\n",
      "Requirement already satisfied: lxml>=4.9.1 in d:\\deep learning\\repository\\venv\\lib\\site-packages (from yfinance) (4.9.4)\n",
      "Requirement already satisfied: appdirs>=1.4.4 in d:\\deep learning\\repository\\venv\\lib\\site-packages (from yfinance) (1.4.4)\n",
      "Requirement already satisfied: pytz>=2022.5 in d:\\deep learning\\repository\\venv\\lib\\site-packages (from yfinance) (2023.3.post1)\n",
      "Requirement already satisfied: frozendict>=2.3.4 in d:\\deep learning\\repository\\venv\\lib\\site-packages (from yfinance) (2.3.10)\n",
      "Requirement already satisfied: peewee>=3.16.2 in d:\\deep learning\\repository\\venv\\lib\\site-packages (from yfinance) (3.17.0)\n",
      "Requirement already satisfied: beautifulsoup4>=4.11.1 in d:\\deep learning\\repository\\venv\\lib\\site-packages (from yfinance) (4.12.2)\n",
      "Requirement already satisfied: html5lib>=1.1 in d:\\deep learning\\repository\\venv\\lib\\site-packages (from yfinance) (1.1)\n",
      "Requirement already satisfied: soupsieve>1.2 in d:\\deep learning\\repository\\venv\\lib\\site-packages (from beautifulsoup4>=4.11.1->yfinance) (2.5)\n",
      "Requirement already satisfied: six>=1.9 in d:\\deep learning\\repository\\venv\\lib\\site-packages (from html5lib>=1.1->yfinance) (1.16.0)\n",
      "Requirement already satisfied: webencodings in d:\\deep learning\\repository\\venv\\lib\\site-packages (from html5lib>=1.1->yfinance) (0.5.1)\n",
      "Requirement already satisfied: python-dateutil>=2.8.2 in d:\\deep learning\\repository\\venv\\lib\\site-packages (from pandas>=1.3.0->yfinance) (2.8.2)\n",
      "Requirement already satisfied: tzdata>=2022.1 in d:\\deep learning\\repository\\venv\\lib\\site-packages (from pandas>=1.3.0->yfinance) (2023.3)\n",
      "Requirement already satisfied: charset-normalizer<4,>=2 in d:\\deep learning\\repository\\venv\\lib\\site-packages (from requests>=2.31->yfinance) (3.3.2)\n",
      "Requirement already satisfied: idna<4,>=2.5 in d:\\deep learning\\repository\\venv\\lib\\site-packages (from requests>=2.31->yfinance) (3.6)\n",
      "Requirement already satisfied: urllib3<3,>=1.21.1 in d:\\deep learning\\repository\\venv\\lib\\site-packages (from requests>=2.31->yfinance) (2.1.0)\n",
      "Requirement already satisfied: certifi>=2017.4.17 in d:\\deep learning\\repository\\venv\\lib\\site-packages (from requests>=2.31->yfinance) (2023.11.17)\n",
      "Note: you may need to restart the kernel to use updated packages.\n"
     ]
    },
    {
     "name": "stderr",
     "output_type": "stream",
     "text": [
      "\n",
      "[notice] A new release of pip is available: 23.3.1 -> 23.3.2\n",
      "[notice] To update, run: python.exe -m pip install --upgrade pip\n"
     ]
    }
   ],
   "source": [
    "%pip install yfinance"
   ]
  },
  {
   "cell_type": "code",
   "execution_count": 34,
   "metadata": {},
   "outputs": [
    {
     "name": "stdout",
     "output_type": "stream",
     "text": [
      "[*********************100%%**********************]  1 of 1 completed\n"
     ]
    },
    {
     "data": {
      "text/html": [
       "<div>\n",
       "<style scoped>\n",
       "    .dataframe tbody tr th:only-of-type {\n",
       "        vertical-align: middle;\n",
       "    }\n",
       "\n",
       "    .dataframe tbody tr th {\n",
       "        vertical-align: top;\n",
       "    }\n",
       "\n",
       "    .dataframe thead th {\n",
       "        text-align: right;\n",
       "    }\n",
       "</style>\n",
       "<table border=\"1\" class=\"dataframe\">\n",
       "  <thead>\n",
       "    <tr style=\"text-align: right;\">\n",
       "      <th></th>\n",
       "      <th>Open</th>\n",
       "      <th>High</th>\n",
       "      <th>Low</th>\n",
       "      <th>Close</th>\n",
       "      <th>Adj Close</th>\n",
       "      <th>Volume</th>\n",
       "    </tr>\n",
       "    <tr>\n",
       "      <th>Date</th>\n",
       "      <th></th>\n",
       "      <th></th>\n",
       "      <th></th>\n",
       "      <th></th>\n",
       "      <th></th>\n",
       "      <th></th>\n",
       "    </tr>\n",
       "  </thead>\n",
       "  <tbody>\n",
       "    <tr>\n",
       "      <th>2022-12-28</th>\n",
       "      <td>129.669998</td>\n",
       "      <td>131.029999</td>\n",
       "      <td>125.870003</td>\n",
       "      <td>126.040001</td>\n",
       "      <td>125.339409</td>\n",
       "      <td>85438400</td>\n",
       "    </tr>\n",
       "    <tr>\n",
       "      <th>2022-12-29</th>\n",
       "      <td>127.989998</td>\n",
       "      <td>130.479996</td>\n",
       "      <td>127.730003</td>\n",
       "      <td>129.610001</td>\n",
       "      <td>128.889572</td>\n",
       "      <td>75703700</td>\n",
       "    </tr>\n",
       "    <tr>\n",
       "      <th>2022-12-30</th>\n",
       "      <td>128.410004</td>\n",
       "      <td>129.949997</td>\n",
       "      <td>127.430000</td>\n",
       "      <td>129.929993</td>\n",
       "      <td>129.207779</td>\n",
       "      <td>77034200</td>\n",
       "    </tr>\n",
       "    <tr>\n",
       "      <th>2023-01-03</th>\n",
       "      <td>130.279999</td>\n",
       "      <td>130.899994</td>\n",
       "      <td>124.169998</td>\n",
       "      <td>125.070000</td>\n",
       "      <td>124.374794</td>\n",
       "      <td>112117500</td>\n",
       "    </tr>\n",
       "    <tr>\n",
       "      <th>2023-01-04</th>\n",
       "      <td>126.889999</td>\n",
       "      <td>128.660004</td>\n",
       "      <td>125.080002</td>\n",
       "      <td>126.360001</td>\n",
       "      <td>125.657639</td>\n",
       "      <td>89113600</td>\n",
       "    </tr>\n",
       "    <tr>\n",
       "      <th>...</th>\n",
       "      <td>...</td>\n",
       "      <td>...</td>\n",
       "      <td>...</td>\n",
       "      <td>...</td>\n",
       "      <td>...</td>\n",
       "      <td>...</td>\n",
       "    </tr>\n",
       "    <tr>\n",
       "      <th>2023-12-20</th>\n",
       "      <td>196.899994</td>\n",
       "      <td>197.679993</td>\n",
       "      <td>194.830002</td>\n",
       "      <td>194.830002</td>\n",
       "      <td>194.830002</td>\n",
       "      <td>52242800</td>\n",
       "    </tr>\n",
       "    <tr>\n",
       "      <th>2023-12-21</th>\n",
       "      <td>196.100006</td>\n",
       "      <td>197.080002</td>\n",
       "      <td>193.500000</td>\n",
       "      <td>194.679993</td>\n",
       "      <td>194.679993</td>\n",
       "      <td>46482500</td>\n",
       "    </tr>\n",
       "    <tr>\n",
       "      <th>2023-12-22</th>\n",
       "      <td>195.179993</td>\n",
       "      <td>195.410004</td>\n",
       "      <td>192.970001</td>\n",
       "      <td>193.600006</td>\n",
       "      <td>193.600006</td>\n",
       "      <td>37122800</td>\n",
       "    </tr>\n",
       "    <tr>\n",
       "      <th>2023-12-26</th>\n",
       "      <td>193.610001</td>\n",
       "      <td>193.889999</td>\n",
       "      <td>192.830002</td>\n",
       "      <td>193.050003</td>\n",
       "      <td>193.050003</td>\n",
       "      <td>28919300</td>\n",
       "    </tr>\n",
       "    <tr>\n",
       "      <th>2023-12-27</th>\n",
       "      <td>192.490005</td>\n",
       "      <td>193.500000</td>\n",
       "      <td>191.089996</td>\n",
       "      <td>193.149994</td>\n",
       "      <td>193.149994</td>\n",
       "      <td>48053800</td>\n",
       "    </tr>\n",
       "  </tbody>\n",
       "</table>\n",
       "<p>251 rows × 6 columns</p>\n",
       "</div>"
      ],
      "text/plain": [
       "                  Open        High         Low       Close   Adj Close  \\\n",
       "Date                                                                     \n",
       "2022-12-28  129.669998  131.029999  125.870003  126.040001  125.339409   \n",
       "2022-12-29  127.989998  130.479996  127.730003  129.610001  128.889572   \n",
       "2022-12-30  128.410004  129.949997  127.430000  129.929993  129.207779   \n",
       "2023-01-03  130.279999  130.899994  124.169998  125.070000  124.374794   \n",
       "2023-01-04  126.889999  128.660004  125.080002  126.360001  125.657639   \n",
       "...                ...         ...         ...         ...         ...   \n",
       "2023-12-20  196.899994  197.679993  194.830002  194.830002  194.830002   \n",
       "2023-12-21  196.100006  197.080002  193.500000  194.679993  194.679993   \n",
       "2023-12-22  195.179993  195.410004  192.970001  193.600006  193.600006   \n",
       "2023-12-26  193.610001  193.889999  192.830002  193.050003  193.050003   \n",
       "2023-12-27  192.490005  193.500000  191.089996  193.149994  193.149994   \n",
       "\n",
       "               Volume  \n",
       "Date                   \n",
       "2022-12-28   85438400  \n",
       "2022-12-29   75703700  \n",
       "2022-12-30   77034200  \n",
       "2023-01-03  112117500  \n",
       "2023-01-04   89113600  \n",
       "...               ...  \n",
       "2023-12-20   52242800  \n",
       "2023-12-21   46482500  \n",
       "2023-12-22   37122800  \n",
       "2023-12-26   28919300  \n",
       "2023-12-27   48053800  \n",
       "\n",
       "[251 rows x 6 columns]"
      ]
     },
     "execution_count": 34,
     "metadata": {},
     "output_type": "execute_result"
    }
   ],
   "source": [
    "import yfinance as yf \n",
    "df2 = yf.download('AAPL', period='1y', interval='1d')\n",
    "df2"
   ]
  },
  {
   "cell_type": "code",
   "execution_count": 35,
   "metadata": {},
   "outputs": [
    {
     "name": "stdout",
     "output_type": "stream",
     "text": [
      "[*********************100%%**********************]  1 of 1 completed\n"
     ]
    },
    {
     "data": {
      "text/html": [
       "<div>\n",
       "<style scoped>\n",
       "    .dataframe tbody tr th:only-of-type {\n",
       "        vertical-align: middle;\n",
       "    }\n",
       "\n",
       "    .dataframe tbody tr th {\n",
       "        vertical-align: top;\n",
       "    }\n",
       "\n",
       "    .dataframe thead th {\n",
       "        text-align: right;\n",
       "    }\n",
       "</style>\n",
       "<table border=\"1\" class=\"dataframe\">\n",
       "  <thead>\n",
       "    <tr style=\"text-align: right;\">\n",
       "      <th></th>\n",
       "      <th>Open</th>\n",
       "      <th>High</th>\n",
       "      <th>Low</th>\n",
       "      <th>Close</th>\n",
       "      <th>Adj Close</th>\n",
       "      <th>Volume</th>\n",
       "    </tr>\n",
       "    <tr>\n",
       "      <th>Date</th>\n",
       "      <th></th>\n",
       "      <th></th>\n",
       "      <th></th>\n",
       "      <th></th>\n",
       "      <th></th>\n",
       "      <th></th>\n",
       "    </tr>\n",
       "  </thead>\n",
       "  <tbody>\n",
       "    <tr>\n",
       "      <th>2018-12-24</th>\n",
       "      <td>38.959999</td>\n",
       "      <td>39.630001</td>\n",
       "      <td>37.517502</td>\n",
       "      <td>39.057499</td>\n",
       "      <td>37.487812</td>\n",
       "      <td>381634000</td>\n",
       "    </tr>\n",
       "    <tr>\n",
       "      <th>2018-12-31</th>\n",
       "      <td>39.632500</td>\n",
       "      <td>39.840000</td>\n",
       "      <td>35.500000</td>\n",
       "      <td>37.064999</td>\n",
       "      <td>35.575397</td>\n",
       "      <td>887850000</td>\n",
       "    </tr>\n",
       "    <tr>\n",
       "      <th>2019-01-07</th>\n",
       "      <td>37.174999</td>\n",
       "      <td>38.632500</td>\n",
       "      <td>36.474998</td>\n",
       "      <td>38.072498</td>\n",
       "      <td>36.542400</td>\n",
       "      <td>814824400</td>\n",
       "    </tr>\n",
       "    <tr>\n",
       "      <th>2019-01-14</th>\n",
       "      <td>37.712502</td>\n",
       "      <td>39.470001</td>\n",
       "      <td>37.305000</td>\n",
       "      <td>39.205002</td>\n",
       "      <td>37.629387</td>\n",
       "      <td>621168000</td>\n",
       "    </tr>\n",
       "    <tr>\n",
       "      <th>2019-01-21</th>\n",
       "      <td>39.102501</td>\n",
       "      <td>39.532501</td>\n",
       "      <td>37.924999</td>\n",
       "      <td>39.439999</td>\n",
       "      <td>37.854946</td>\n",
       "      <td>450006400</td>\n",
       "    </tr>\n",
       "    <tr>\n",
       "      <th>...</th>\n",
       "      <td>...</td>\n",
       "      <td>...</td>\n",
       "      <td>...</td>\n",
       "      <td>...</td>\n",
       "      <td>...</td>\n",
       "      <td>...</td>\n",
       "    </tr>\n",
       "    <tr>\n",
       "      <th>2023-11-27</th>\n",
       "      <td>189.919998</td>\n",
       "      <td>192.089996</td>\n",
       "      <td>188.190002</td>\n",
       "      <td>191.240005</td>\n",
       "      <td>191.240005</td>\n",
       "      <td>216455900</td>\n",
       "    </tr>\n",
       "    <tr>\n",
       "      <th>2023-12-04</th>\n",
       "      <td>189.979996</td>\n",
       "      <td>195.990005</td>\n",
       "      <td>187.449997</td>\n",
       "      <td>195.710007</td>\n",
       "      <td>195.710007</td>\n",
       "      <td>251962600</td>\n",
       "    </tr>\n",
       "    <tr>\n",
       "      <th>2023-12-11</th>\n",
       "      <td>193.110001</td>\n",
       "      <td>199.619995</td>\n",
       "      <td>191.419998</td>\n",
       "      <td>197.570007</td>\n",
       "      <td>197.570007</td>\n",
       "      <td>379133100</td>\n",
       "    </tr>\n",
       "    <tr>\n",
       "      <th>2023-12-18</th>\n",
       "      <td>196.089996</td>\n",
       "      <td>197.679993</td>\n",
       "      <td>192.970001</td>\n",
       "      <td>193.600006</td>\n",
       "      <td>193.600006</td>\n",
       "      <td>232314100</td>\n",
       "    </tr>\n",
       "    <tr>\n",
       "      <th>2023-12-25</th>\n",
       "      <td>193.610001</td>\n",
       "      <td>193.889999</td>\n",
       "      <td>191.089996</td>\n",
       "      <td>193.149994</td>\n",
       "      <td>193.149994</td>\n",
       "      <td>124901017</td>\n",
       "    </tr>\n",
       "  </tbody>\n",
       "</table>\n",
       "<p>262 rows × 6 columns</p>\n",
       "</div>"
      ],
      "text/plain": [
       "                  Open        High         Low       Close   Adj Close  \\\n",
       "Date                                                                     \n",
       "2018-12-24   38.959999   39.630001   37.517502   39.057499   37.487812   \n",
       "2018-12-31   39.632500   39.840000   35.500000   37.064999   35.575397   \n",
       "2019-01-07   37.174999   38.632500   36.474998   38.072498   36.542400   \n",
       "2019-01-14   37.712502   39.470001   37.305000   39.205002   37.629387   \n",
       "2019-01-21   39.102501   39.532501   37.924999   39.439999   37.854946   \n",
       "...                ...         ...         ...         ...         ...   \n",
       "2023-11-27  189.919998  192.089996  188.190002  191.240005  191.240005   \n",
       "2023-12-04  189.979996  195.990005  187.449997  195.710007  195.710007   \n",
       "2023-12-11  193.110001  199.619995  191.419998  197.570007  197.570007   \n",
       "2023-12-18  196.089996  197.679993  192.970001  193.600006  193.600006   \n",
       "2023-12-25  193.610001  193.889999  191.089996  193.149994  193.149994   \n",
       "\n",
       "               Volume  \n",
       "Date                   \n",
       "2018-12-24  381634000  \n",
       "2018-12-31  887850000  \n",
       "2019-01-07  814824400  \n",
       "2019-01-14  621168000  \n",
       "2019-01-21  450006400  \n",
       "...               ...  \n",
       "2023-11-27  216455900  \n",
       "2023-12-04  251962600  \n",
       "2023-12-11  379133100  \n",
       "2023-12-18  232314100  \n",
       "2023-12-25  124901017  \n",
       "\n",
       "[262 rows x 6 columns]"
      ]
     },
     "execution_count": 35,
     "metadata": {},
     "output_type": "execute_result"
    }
   ],
   "source": [
    "df3 =  yf.download('AAPL', period='5y', interval='1wk')\n",
    "df3\n"
   ]
  },
  {
   "cell_type": "code",
   "execution_count": null,
   "metadata": {},
   "outputs": [],
   "source": []
  },
  {
   "cell_type": "code",
   "execution_count": null,
   "metadata": {},
   "outputs": [],
   "source": []
  }
 ],
 "metadata": {
  "kernelspec": {
   "display_name": "venv",
   "language": "python",
   "name": "python3"
  },
  "language_info": {
   "codemirror_mode": {
    "name": "ipython",
    "version": 3
   },
   "file_extension": ".py",
   "mimetype": "text/x-python",
   "name": "python",
   "nbconvert_exporter": "python",
   "pygments_lexer": "ipython3",
   "version": "3.11.7"
  }
 },
 "nbformat": 4,
 "nbformat_minor": 2
}
